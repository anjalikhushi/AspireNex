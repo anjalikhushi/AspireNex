{
  "nbformat": 4,
  "nbformat_minor": 0,
  "metadata": {
    "colab": {
      "provenance": []
    },
    "kernelspec": {
      "name": "python3",
      "display_name": "Python 3"
    },
    "language_info": {
      "name": "python"
    }
  },
  "cells": [
    {
      "cell_type": "code",
      "source": [
        "import pandas as pd\n",
        "from sklearn.model_selection import train_test_split\n",
        "from sklearn.linear_model import LogisticRegression\n",
        "from sklearn.tree import DecisionTreeClassifier\n",
        "from sklearn.ensemble import RandomForestClassifier\n",
        "from sklearn.metrics import classification_report, confusion_matrix, accuracy_score"
      ],
      "metadata": {
        "id": "d12f_4rn7lI0"
      },
      "execution_count": 1,
      "outputs": []
    },
    {
      "cell_type": "code",
      "source": [
        "# Step 1: Load the dataset\n",
        "data = pd.read_csv('creditcard.csv')\n",
        "\n",
        "# Step 2: Handle missing values by removing rows with NaN values\n",
        "data = data.dropna()\n",
        "\n",
        "# Step 3: Split the dataset into features and target variable\n",
        "X = data.drop('Class', axis=1)  # Assuming 'Class' is the target variable\n",
        "y = data['Class']"
      ],
      "metadata": {
        "id": "uaX73UiY32oO"
      },
      "execution_count": 3,
      "outputs": []
    },
    {
      "cell_type": "code",
      "source": [
        "# Split the dataset into training and testing sets\n",
        "X_train, X_test, y_train, y_test = train_test_split(X, y, test_size=0.2, random_state=42)\n",
        "\n",
        "# Step 4: Train models\n",
        "\n",
        "# Logistic Regression\n",
        "log_reg = LogisticRegression(max_iter=1000)\n",
        "log_reg.fit(X_train, y_train)\n",
        "y_pred_log_reg = log_reg.predict(X_test)\n",
        "\n",
        "# Decision Tree\n",
        "decision_tree = DecisionTreeClassifier()\n",
        "decision_tree.fit(X_train, y_train)\n",
        "y_pred_decision_tree = decision_tree.predict(X_test)\n",
        "\n",
        "# Random Forest\n",
        "random_forest = RandomForestClassifier()\n",
        "random_forest.fit(X_train, y_train)\n",
        "y_pred_random_forest = random_forest.predict(X_test)"
      ],
      "metadata": {
        "colab": {
          "base_uri": "https://localhost:8080/"
        },
        "id": "6mAngGw037_Y",
        "outputId": "62d878a8-07cb-4c90-c802-5e7ac890f677"
      },
      "execution_count": 4,
      "outputs": [
        {
          "output_type": "stream",
          "name": "stderr",
          "text": [
            "/usr/local/lib/python3.10/dist-packages/sklearn/linear_model/_logistic.py:458: ConvergenceWarning: lbfgs failed to converge (status=1):\n",
            "STOP: TOTAL NO. of ITERATIONS REACHED LIMIT.\n",
            "\n",
            "Increase the number of iterations (max_iter) or scale the data as shown in:\n",
            "    https://scikit-learn.org/stable/modules/preprocessing.html\n",
            "Please also refer to the documentation for alternative solver options:\n",
            "    https://scikit-learn.org/stable/modules/linear_model.html#logistic-regression\n",
            "  n_iter_i = _check_optimize_result(\n"
          ]
        }
      ]
    },
    {
      "cell_type": "code",
      "source": [
        "# Step 5: Evaluate the models\n",
        "\n",
        "# Logistic Regression evaluation\n",
        "print(\"Logistic Regression:\")\n",
        "print(classification_report(y_test, y_pred_log_reg))\n",
        "print(confusion_matrix(y_test, y_pred_log_reg))\n",
        "print(f'Accuracy: {accuracy_score(y_test, y_pred_log_reg)}\\n')\n",
        "\n",
        "# Decision Tree evaluation\n",
        "print(\"Decision Tree:\")\n",
        "print(classification_report(y_test, y_pred_decision_tree))\n",
        "print(confusion_matrix(y_test, y_pred_decision_tree))\n",
        "print(f'Accuracy: {accuracy_score(y_test, y_pred_decision_tree)}\\n')\n",
        "\n",
        "# Random Forest evaluation\n",
        "print(\"Random Forest:\")\n",
        "print(classification_report(y_test, y_pred_random_forest))\n",
        "print(confusion_matrix(y_test, y_pred_random_forest))\n",
        "print(f'Accuracy: {accuracy_score(y_test, y_pred_random_forest)}\\n')\n"
      ],
      "metadata": {
        "colab": {
          "base_uri": "https://localhost:8080/"
        },
        "id": "B8bsjo5E4h4M",
        "outputId": "eb5b41b5-d9cb-4a0e-80fb-7869ac3f49b0"
      },
      "execution_count": 5,
      "outputs": [
        {
          "output_type": "stream",
          "name": "stdout",
          "text": [
            "Logistic Regression:\n",
            "              precision    recall  f1-score   support\n",
            "\n",
            "         0.0       1.00      1.00      1.00      2378\n",
            "         1.0       0.93      1.00      0.97        14\n",
            "\n",
            "    accuracy                           1.00      2392\n",
            "   macro avg       0.97      1.00      0.98      2392\n",
            "weighted avg       1.00      1.00      1.00      2392\n",
            "\n",
            "[[2377    1]\n",
            " [   0   14]]\n",
            "Accuracy: 0.9995819397993311\n",
            "\n",
            "Decision Tree:\n",
            "              precision    recall  f1-score   support\n",
            "\n",
            "         0.0       1.00      1.00      1.00      2378\n",
            "         1.0       0.79      0.79      0.79        14\n",
            "\n",
            "    accuracy                           1.00      2392\n",
            "   macro avg       0.89      0.89      0.89      2392\n",
            "weighted avg       1.00      1.00      1.00      2392\n",
            "\n",
            "[[2375    3]\n",
            " [   3   11]]\n",
            "Accuracy: 0.9974916387959866\n",
            "\n",
            "Random Forest:\n",
            "              precision    recall  f1-score   support\n",
            "\n",
            "         0.0       1.00      1.00      1.00      2378\n",
            "         1.0       0.93      1.00      0.97        14\n",
            "\n",
            "    accuracy                           1.00      2392\n",
            "   macro avg       0.97      1.00      0.98      2392\n",
            "weighted avg       1.00      1.00      1.00      2392\n",
            "\n",
            "[[2377    1]\n",
            " [   0   14]]\n",
            "Accuracy: 0.9995819397993311\n",
            "\n"
          ]
        }
      ]
    },
    {
      "cell_type": "code",
      "source": [
        " # Step 6: Make predictions\n",
        "# Example of making predictions\n",
        "new_data = X_test.iloc[:5]  # Example: using first 5 rows of test set\n",
        "predictions = random_forest.predict(new_data)\n",
        "print(\"Predictions for new data:\")\n",
        "print(predictions)"
      ],
      "metadata": {
        "colab": {
          "base_uri": "https://localhost:8080/"
        },
        "id": "e6NrajQ_5B-s",
        "outputId": "173a730d-db2d-4a4a-d1ca-2b3572c95aae"
      },
      "execution_count": 6,
      "outputs": [
        {
          "output_type": "stream",
          "name": "stdout",
          "text": [
            "Predictions for new data:\n",
            "[0. 0. 0. 0. 0.]\n"
          ]
        }
      ]
    },
    {
      "cell_type": "code",
      "source": [],
      "metadata": {
        "id": "IjSRbXGs5HMD"
      },
      "execution_count": null,
      "outputs": []
    }
  ]
}